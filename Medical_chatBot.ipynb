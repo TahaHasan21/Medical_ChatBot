{
  "cells": [
    {
      "cell_type": "markdown",
      "metadata": {
        "id": "view-in-github",
        "colab_type": "text"
      },
      "source": [
        "<a href=\"https://colab.research.google.com/github/TahaHasan21/Medical_ChatBot/blob/main/Medical_chatBot.ipynb\" target=\"_parent\"><img src=\"https://colab.research.google.com/assets/colab-badge.svg\" alt=\"Open In Colab\"/></a>"
      ]
    },
    {
      "cell_type": "code",
      "execution_count": null,
      "metadata": {
        "colab": {
          "base_uri": "https://localhost:8080/"
        },
        "id": "IuPy6tRi6tQB",
        "outputId": "7e0bf9ee-87c4-415a-c183-89f47401eeb1"
      },
      "outputs": [
        {
          "name": "stderr",
          "output_type": "stream",
          "text": [
            "[nltk_data] Downloading package stopwords to /root/nltk_data...\n",
            "[nltk_data]   Unzipping corpora/stopwords.zip.\n",
            "[nltk_data] Downloading package wordnet to /root/nltk_data...\n"
          ]
        },
        {
          "data": {
            "text/plain": [
              "True"
            ]
          },
          "execution_count": 3,
          "metadata": {},
          "output_type": "execute_result"
        }
      ],
      "source": [
        "import nltk\n",
        "nltk.download('stopwords')\n",
        "nltk.download('wordnet')"
      ]
    },
    {
      "cell_type": "code",
      "execution_count": null,
      "metadata": {
        "id": "SbEiSv797FOe"
      },
      "outputs": [],
      "source": [
        "import numpy as np\n",
        "import pandas as pd\n",
        "import math\n",
        "from sklearn.model_selection import train_test_split,cross_val_score\n",
        "import math\n",
        "import operator\n",
        "import pickle\n",
        "import re\n",
        "from nltk.stem import WordNetLemmatizer\n",
        "import numpy as np\n",
        "from nltk.corpus import stopwords\n",
        "from nltk.stem.porter import PorterStemmer\n",
        "from nltk.tokenize import RegexpTokenizer\n",
        "from statistics import mean\n",
        "from nltk.corpus import wordnet\n",
        "import requests\n",
        "from bs4 import BeautifulSoup\n",
        "from itertools import combinations\n",
        "from time import time\n",
        "from collections import Counter\n",
        "import operator\n",
        "import warnings\n",
        "warnings.simplefilter(\"ignore\")"
      ]
    },
    {
      "cell_type": "code",
      "execution_count": null,
      "metadata": {
        "colab": {
          "base_uri": "https://localhost:8080/"
        },
        "id": "VGTgMq6_8ET3",
        "outputId": "07c513f8-73f2-48b8-d213-5cf96396db65"
      },
      "outputs": [
        {
          "name": "stdout",
          "output_type": "stream",
          "text": [
            "Requirement already satisfied: pip in /usr/local/lib/python3.10/dist-packages (23.1.2)\n",
            "Collecting pip\n",
            "  Downloading pip-24.0-py3-none-any.whl (2.1 MB)\n",
            "\u001b[2K     \u001b[90m━━━━━━━━━━━━━━━━━━━━━━━━━━━━━━━━━━━━━━━━\u001b[0m \u001b[32m2.1/2.1 MB\u001b[0m \u001b[31m10.3 MB/s\u001b[0m eta \u001b[36m0:00:00\u001b[0m\n",
            "\u001b[?25hInstalling collected packages: pip\n",
            "  Attempting uninstall: pip\n",
            "    Found existing installation: pip 23.1.2\n",
            "    Uninstalling pip-23.1.2:\n",
            "      Successfully uninstalled pip-23.1.2\n",
            "Successfully installed pip-24.0\n"
          ]
        }
      ],
      "source": [
        "pip install --upgrade pip"
      ]
    },
    {
      "cell_type": "code",
      "execution_count": null,
      "metadata": {
        "id": "9StYYGmC8M-j"
      },
      "outputs": [],
      "source": [
        "df=pd.read_csv(\"/content/Disease-Detection-based-on-Symptoms/Dataset/dis_sym_dataset_norm.csv\")\n",
        "documentname_list=list(df['label_dis'])\n",
        "df=df.iloc[:,1:]\n",
        "columns_name=list(df.columns)\n",
        "documentname_list=list(documentname_list)\n",
        "\n",
        "N=len(df)\n",
        "M=len(columns_name)\n",
        "idf={}\n",
        "for col in columns_name:\n",
        "  temp=np.count_nonzero(df[col])\n",
        "  idf[col]=np.log(N/temp)\n",
        "tf={}\n",
        "for i in range(N):\n",
        "  for col in columns_name:\n",
        "    key=(documentname_list[i],col)\n",
        "    tf[key]=df.loc[i,col]\n",
        "tf_idf={}\n",
        "for i in range(N):\n",
        "  for col in columns_name:\n",
        "    key=(documentname_list[i],col)\n",
        "    tf_idf[key]=float(idf[col])*float(tf[key])\n",
        "\n",
        "D = np.zeros((N, M),dtype='float32')\n",
        "for i in tf_idf:\n",
        "    sym = columns_name.index(i[1])\n",
        "    dis=documentname_list.index(i[0])\n",
        "    D[dis][sym] = tf_idf[i]\n",
        "\n",
        "def cosine_dot(a, b):\n",
        "    if np.linalg.norm(a) == 0 or np.linalg.norm(b) == 0:\n",
        "        return 0\n",
        "    else:\n",
        "        temp = np.dot(a, b) / (np.linalg.norm(a) * np.linalg.norm(b))\n",
        "        return temp\n",
        "\n",
        "\n",
        "def convert_tolowercase(data):\n",
        "    return data.lower()\n",
        "\n",
        "\n",
        "def regextokenizer_func(data):\n",
        "    tokenizer = RegexpTokenizer(r'\\w+')\n",
        "    data = tokenizer.tokenize(data)\n",
        "    return data\n",
        "\n",
        "\n",
        "def gen_vector(tokens):\n",
        "    Q = np.zeros(M)\n",
        "    counter = Counter(tokens)\n",
        "    query_weights = {}\n",
        "    for token in np.unique(tokens):\n",
        "        tf = counter[token]\n",
        "        try:\n",
        "          idf_temp=idf[token]\n",
        "        except:\n",
        "          pass\n",
        "        try:\n",
        "            ind = columns_name.index(token)\n",
        "            Q[ind] = tf*idf_temp\n",
        "        except:\n",
        "            pass\n",
        "    return Q\n",
        "\n",
        "\n",
        "def tf_idf_score(k, query):\n",
        "    query_weights = {}\n",
        "    for key in tf_idf:\n",
        "        if key[1] in query:\n",
        "            try:\n",
        "                query_weights[key[0]] += tf_idf[key]\n",
        "            except:\n",
        "                query_weights[key[0]] = tf_idf[key]\n",
        "    query_weights = sorted(query_weights.items(), key=lambda x: x[1], reverse=True)\n",
        "\n",
        "    l = []\n",
        "    for i in query_weights[:k]:\n",
        "        l.append(i)\n",
        "    return l\n",
        "\n",
        "\n",
        "def cosine_similarity(k, query):\n",
        "    d_cosines = []\n",
        "    query_vector = gen_vector(query)\n",
        "    for d in D:\n",
        "        d_cosines.append(cosine_dot(query_vector, d))\n",
        "    out = np.array(d_cosines).argsort()[-k:][::-1]\n",
        "\n",
        "    final_display_disease={}\n",
        "    for lt in set(out):\n",
        "      final_display_disease[lt] = float(d_cosines[lt])\n",
        "    return final_display_disease"
      ]
    },
    {
      "cell_type": "code",
      "execution_count": null,
      "metadata": {
        "id": "hV6AERopCUXz"
      },
      "outputs": [],
      "source": [
        "\n",
        "def synonyms(term):\n",
        "    synonyms = []\n",
        "    response = requests.get('https://www.thesaurus.com/browse/{}'.format(term))\n",
        "    soup = BeautifulSoup(response.content,  \"html.parser\")\n",
        "    try:\n",
        "        container=soup.find('section', {'class': 'MainContentContainer'})\n",
        "        row=container.find('div',{'class':'css-191l5o0-ClassicContentCard'})\n",
        "        row = row.find_all('li')\n",
        "        for x in row:\n",
        "            synonyms.append(x.get_text())\n",
        "    except:\n",
        "        None\n",
        "    for syn in wordnet.synsets(term):\n",
        "        synonyms+=syn.lemma_names()\n",
        "    return set(synonyms)"
      ]
    },
    {
      "cell_type": "code",
      "execution_count": null,
      "metadata": {
        "id": "fcGukozhCeBX"
      },
      "outputs": [],
      "source": [
        "splitter = RegexpTokenizer(r'\\w+')\n",
        "stop_words = stopwords.words('english')\n",
        "lemmatizer = WordNetLemmatizer()"
      ]
    },
    {
      "cell_type": "code",
      "execution_count": null,
      "metadata": {
        "id": "IV9F8GO8Cjh_"
      },
      "outputs": [],
      "source": [
        "df_comb = pd.read_csv(r\"/content/Disease-Detection-based-on-Symptoms/Dataset/dis_sym_dataset_comb.csv\") # Disease combination\n",
        "df_norm = pd.read_csv(r\"/content/Disease-Detection-based-on-Symptoms/Dataset/dis_sym_dataset_norm.csv\") # Individual Disease\n",
        "Y = df_norm.iloc[:, 0:1]\n",
        "X = df_norm.iloc[:, 1:]\n",
        "dataset_symptoms = list(X.columns)\n",
        "diseases = list(set(Y['label_dis']))\n",
        "diseases.sort()"
      ]
    },
    {
      "cell_type": "code",
      "execution_count": null,
      "metadata": {
        "colab": {
          "base_uri": "https://localhost:8080/"
        },
        "id": "3IWPmpPxCvwZ",
        "outputId": "fd0eb053-f0f9-4b52-a1be-a02facac9e3b"
      },
      "outputs": [
        {
          "name": "stderr",
          "output_type": "stream",
          "text": [
            "[nltk_data] Downloading package omw-1.4 to /root/nltk_data...\n"
          ]
        },
        {
          "data": {
            "text/plain": [
              "True"
            ]
          },
          "execution_count": 10,
          "metadata": {},
          "output_type": "execute_result"
        }
      ],
      "source": [
        "import nltk\n",
        "nltk.download('omw-1.4')"
      ]
    },
    {
      "cell_type": "code",
      "execution_count": null,
      "metadata": {
        "colab": {
          "base_uri": "https://localhost:8080/"
        },
        "id": "PA9wB4e7CzAe",
        "outputId": "6c50d646-6560-455a-bc5b-4ba1ec8260e1"
      },
      "outputs": [
        {
          "name": "stdout",
          "output_type": "stream",
          "text": [
            "Hello! Welcome to our Virtual-Chatbot\n",
            "\n",
            "Enter symptoms:\n",
            "Fever, cough\n"
          ]
        }
      ],
      "source": [
        "print(\"Hello! Welcome to our Virtual-Chatbot\")\n",
        "user_symptoms = str(input(\"\\nEnter symptoms:\\n\")).lower().split(',')\n",
        "processed_user_symptoms=[]\n",
        "for sym in user_symptoms:\n",
        "    sym=sym.strip()\n",
        "    sym=sym.replace('-',' ')\n",
        "    sym=sym.replace(\"'\",'')\n",
        "    sym = ' '.join([lemmatizer.lemmatize(word) for word in splitter.tokenize(sym)])\n",
        "    processed_user_symptoms.append(sym)"
      ]
    },
    {
      "cell_type": "code",
      "execution_count": null,
      "metadata": {
        "colab": {
          "base_uri": "https://localhost:8080/"
        },
        "id": "HBzJX03KDCaZ",
        "outputId": "f94f3f89-d248-4b31-e767-7a52e4ca6f6e"
      },
      "outputs": [
        {
          "name": "stdout",
          "output_type": "stream",
          "text": [
            "Analysing the Symptoms entered\n",
            "['pyrexia febricity fever febrility feverishness', 'cough coughing']\n"
          ]
        }
      ],
      "source": [
        "user_symptoms = []\n",
        "for user_sym in processed_user_symptoms:\n",
        "    user_sym = user_sym.split()\n",
        "    str_sym = set()\n",
        "    for comb in range(1, len(user_sym)+1):\n",
        "        for subset in combinations(user_sym, comb):\n",
        "            subset=' '.join(subset)\n",
        "            subset = synonyms(subset)\n",
        "            str_sym.update(subset)\n",
        "    str_sym.add(' '.join(user_sym))\n",
        "    user_symptoms.append(' '.join(str_sym).replace('_',' '))\n",
        "print(\"Analysing the Symptoms entered\")\n",
        "print(user_symptoms)"
      ]
    },
    {
      "cell_type": "code",
      "execution_count": null,
      "metadata": {
        "id": "bn3U0xs0DM_u"
      },
      "outputs": [],
      "source": [
        "found_symptoms = set()\n",
        "for idx, data_sym in enumerate(dataset_symptoms):\n",
        "    data_sym_split=data_sym.split()\n",
        "    for user_sym in user_symptoms:\n",
        "        count=0\n",
        "        for symp in data_sym_split:\n",
        "            if symp in user_sym.split():\n",
        "                count+=1\n",
        "        if count/len(data_sym_split)>0.5:\n",
        "            found_symptoms.add(data_sym)\n",
        "found_symptoms = list(found_symptoms)"
      ]
    },
    {
      "cell_type": "code",
      "execution_count": null,
      "metadata": {
        "colab": {
          "base_uri": "https://localhost:8080/"
        },
        "id": "8iBqhHuADRHt",
        "outputId": "736a97cf-d166-44d1-e5ec-f50b79573517"
      },
      "outputs": [
        {
          "name": "stdout",
          "output_type": "stream",
          "text": [
            "Matching symptoms from the data entered\n",
            "0 : fever\n",
            "1 : coughing\n",
            "\n",
            " Hello User! Select more relevant symptoms \n",
            "0\n"
          ]
        }
      ],
      "source": [
        "print(\"Matching symptoms from the data entered\")\n",
        "for idx, symp in enumerate(found_symptoms):\n",
        "    print(idx,\":\",symp)\n",
        "\n",
        "select_list = input(\"\\n Hello User! Select more relevant symptoms \\n\").split()\n",
        "\n",
        "dis_list = set()\n",
        "final_symp = []\n",
        "counter_list = []\n",
        "for idx in select_list:\n",
        "    symp=found_symptoms[int(idx)]\n",
        "    final_symp.append(symp)\n",
        "    dis_list.update(set(df_norm[df_norm[symp]==1]['label_dis']))\n",
        "\n",
        "for dis in dis_list:\n",
        "    row = df_norm.loc[df_norm['label_dis'] == dis].values.tolist()\n",
        "    row[0].pop(0)\n",
        "    for idx,val in enumerate(row[0]):\n",
        "        if val!=0 and dataset_symptoms[idx] not in final_symp:\n",
        "            counter_list.append(dataset_symptoms[idx])\n",
        "\n",
        "dict_symp = dict(Counter(counter_list))\n",
        "dict_symp_tup = sorted(dict_symp.items(), key=operator.itemgetter(1),reverse=True)"
      ]
    },
    {
      "cell_type": "code",
      "execution_count": null,
      "metadata": {
        "colab": {
          "background_save": true,
          "base_uri": "https://localhost:8080/"
        },
        "id": "PxqdzG9eEBYK",
        "outputId": "46f3ca81-3b2b-45ff-acf6-7a9dae13245d"
      },
      "outputs": [
        {
          "name": "stdout",
          "output_type": "stream",
          "text": [
            "\n",
            "Common symptoms:\n",
            "0 : headache\n",
            "1 : testicular pain\n",
            "2 : vomiting\n",
            "3 : barky cough\n",
            "4 : sore throat\n"
          ]
        }
      ],
      "source": [
        "found_symptoms=[]\n",
        "count=0\n",
        "for tup in dict_symp_tup:\n",
        "    count+=1\n",
        "    found_symptoms.append(tup[0])\n",
        "    if count%5==0 or count==len(dict_symp_tup):\n",
        "        print(\"\\nCommon symptoms:\")\n",
        "        for idx,ele in enumerate(found_symptoms):\n",
        "            print(idx,\":\",ele)\n",
        "        select_list = input(\"Do you have have of these symptoms? If Yes, enter the indices (space-separated), 'no' to stop, '-1' to skip:\\n\").lower().split();\n",
        "        if select_list[0]=='no':\n",
        "            break\n",
        "        if select_list[0]=='-1':\n",
        "            found_symptoms = []\n",
        "            continue\n",
        "        for idx in select_list:\n",
        "            final_symp.append(found_symptoms[int(idx)])\n",
        "        found_symptoms = []"
      ]
    },
    {
      "cell_type": "code",
      "execution_count": null,
      "metadata": {
        "colab": {
          "base_uri": "https://localhost:8080/"
        },
        "id": "UtkgYLtuELf5",
        "outputId": "f581b238-08d4-45b4-d84e-6024a50ae8b2"
      },
      "outputs": [
        {
          "name": "stdout",
          "output_type": "stream",
          "text": [
            "Final list of Symptoms used for prediction are : \n",
            "fever\n",
            "headache\n"
          ]
        }
      ],
      "source": [
        "k = 10\n",
        "\n",
        "print(\"Final list of Symptoms used for prediction are : \")\n",
        "for val in final_symp:\n",
        "    print(val)"
      ]
    },
    {
      "cell_type": "code",
      "execution_count": null,
      "metadata": {
        "colab": {
          "base_uri": "https://localhost:8080/"
        },
        "id": "mdBEMCzAfekz",
        "outputId": "bf2f91e2-c8ac-4594-ba89-2249bc16fbbb"
      },
      "outputs": [
        {
          "name": "stdout",
          "output_type": "stream",
          "text": [
            "Collecting googlesearch-python\n",
            "  Downloading googlesearch_python-1.2.4-py3-none-any.whl.metadata (2.6 kB)\n",
            "Requirement already satisfied: beautifulsoup4>=4.9 in /usr/local/lib/python3.10/dist-packages (from googlesearch-python) (4.12.3)\n",
            "Requirement already satisfied: requests>=2.20 in /usr/local/lib/python3.10/dist-packages (from googlesearch-python) (2.31.0)\n",
            "Requirement already satisfied: soupsieve>1.2 in /usr/local/lib/python3.10/dist-packages (from beautifulsoup4>=4.9->googlesearch-python) (2.5)\n",
            "Requirement already satisfied: charset-normalizer<4,>=2 in /usr/local/lib/python3.10/dist-packages (from requests>=2.20->googlesearch-python) (3.3.2)\n",
            "Requirement already satisfied: idna<4,>=2.5 in /usr/local/lib/python3.10/dist-packages (from requests>=2.20->googlesearch-python) (3.7)\n",
            "Requirement already satisfied: urllib3<3,>=1.21.1 in /usr/local/lib/python3.10/dist-packages (from requests>=2.20->googlesearch-python) (2.0.7)\n",
            "Requirement already satisfied: certifi>=2017.4.17 in /usr/local/lib/python3.10/dist-packages (from requests>=2.20->googlesearch-python) (2024.2.2)\n",
            "Downloading googlesearch_python-1.2.4-py3-none-any.whl (4.5 kB)\n",
            "Installing collected packages: googlesearch-python\n",
            "Successfully installed googlesearch-python-1.2.4\n",
            "\u001b[33mWARNING: Running pip as the 'root' user can result in broken permissions and conflicting behaviour with the system package manager. It is recommended to use a virtual environment instead: https://pip.pypa.io/warnings/venv\u001b[0m\u001b[33m\n",
            "\u001b[0m"
          ]
        }
      ],
      "source": [
        "pip install googlesearch-python"
      ]
    },
    {
      "cell_type": "code",
      "execution_count": null,
      "metadata": {
        "id": "BREGkHt2J4U3"
      },
      "outputs": [],
      "source": [
        "import re\n",
        "import warnings\n",
        "warnings.filterwarnings(\"ignore\")\n",
        "import requests\n",
        "from bs4 import BeautifulSoup\n",
        "\n",
        "# Take input a disease and return the content of wikipedia's infobox for that specific disease\n",
        "\n",
        "\n",
        "\n",
        "try:\n",
        "    from googlesearch import search\n",
        "except ImportError:\n",
        "    print(\"No module named 'google' found\")\n",
        "\n",
        "def diseaseDetail(term):\n",
        "    diseases=[term]\n",
        "    ret=term+\"\\n\"\n",
        "    for dis in diseases:\n",
        "        # search \"disease wilipedia\" on google\n",
        "        query = dis+' wikipedia'\n",
        "        for sr in search(query, num_results=10):\n",
        "            # open wikipedia link\n",
        "            match=re.search(r'wikipedia',sr)\n",
        "            filled = 0\n",
        "            if match:\n",
        "                wiki = requests.get(sr,verify=False)\n",
        "                soup = BeautifulSoup(wiki.content, 'html5lib')\n",
        "                # Fetch HTML code for 'infobox'\n",
        "                info_table = soup.find(\"table\", {\"class\":\"infobox\"})\n",
        "                if info_table is not None:\n",
        "                    # Preprocess contents of infobox\n",
        "                    for row in info_table.find_all(\"tr\"):\n",
        "                        data=row.find(\"th\",{\"scope\":\"row\"})\n",
        "                        if data is not None:\n",
        "                            symptom=str(row.find(\"td\"))\n",
        "                            symptom = symptom.replace('.','')\n",
        "                            symptom = symptom.replace(';',',')\n",
        "                            symptom = symptom.replace('<b>','<b> \\n')\n",
        "                            symptom=re.sub(r'<a.*?>','',symptom) # Remove hyperlink\n",
        "                            symptom=re.sub(r'</a>','',symptom) # Remove hyperlink\n",
        "                            symptom=re.sub(r'<[^<]+?>',' ',symptom) # All the tags\n",
        "                            symptom=re.sub(r'\\[.*\\]','',symptom) # Remove citation text\n",
        "                            symptom=symptom.replace(\"&gt\",\">\")\n",
        "                            ret+=data.get_text()+\" - \"+symptom+\"\\n\"\n",
        "#                            print(data.get_text(),\"-\",symptom)\n",
        "                            filled = 1\n",
        "                if filled:\n",
        "                    break\n",
        "    return ret"
      ]
    },
    {
      "cell_type": "code",
      "execution_count": null,
      "metadata": {
        "colab": {
          "base_uri": "https://localhost:8080/"
        },
        "id": "I8k_YlvdSuw-",
        "outputId": "447e843a-327d-4c8e-f88a-762ec0cf677a"
      },
      "outputs": [
        {
          "name": "stdout",
          "output_type": "stream",
          "text": [
            "\n",
            "Top 10 diseases predicted based on TF_IDF Matching :\n",
            "\n",
            "0. Disease : Acute encephalitis syndrome \t Score : 3.24\n",
            "1. Disease : Aseptic meningitis \t Score : 3.24\n",
            "2. Disease : Black Death \t Score : 3.24\n",
            "3. Disease : Bubonic plague \t Score : 3.24\n",
            "4. Disease : Chagas disease \t Score : 3.24\n",
            "5. Disease : Chickenpox \t Score : 3.24\n",
            "6. Disease : Crimean Congo haemorrhagic fever (CCHF) \t Score : 3.24\n",
            "7. Disease : Dengue \t Score : 3.24\n",
            "8. Disease : Ebola \t Score : 3.24\n",
            "9. Disease : Influenza \t Score : 3.24\n",
            "\n",
            "To enter more details about the disease? Enter index of disease or '-1' to discontinue:\n",
            "-1\n"
          ]
        }
      ],
      "source": [
        "topk1=tf_idf_score(k,final_symp)\n",
        "topk2=cosine_similarity(k,final_symp)\n",
        "print(f\"\\nTop {k} diseases predicted based on TF_IDF Matching :\\n\")\n",
        "i = 0\n",
        "topk1_index_mapping = {}\n",
        "for key, score in topk1:\n",
        "  print(f\"{i}. Disease : {key} \\t Score : {round(score, 2)}\")\n",
        "  topk1_index_mapping[i] = key\n",
        "  i += 1\n",
        "\n",
        "select = input(\"\\nTo enter more details about the disease? Enter index of disease or '-1' to discontinue:\\n\")\n",
        "if select!='-1':\n",
        "    dis=topk1_index_mapping[int(select)]\n",
        "    print()\n",
        "    print(diseaseDetail(dis))"
      ]
    },
    {
      "cell_type": "code",
      "execution_count": null,
      "metadata": {
        "colab": {
          "base_uri": "https://localhost:8080/",
          "height": 391
        },
        "id": "fzL2Ah9-mff_",
        "outputId": "118ccb99-86b1-46b5-bc78-f3968ef2435f"
      },
      "outputs": [
        {
          "data": {
            "image/png": "[encoded data removed]",
            "text/plain": [
              "<Figure size 1000x600 with 1 Axes>"
            ]
          },
          "metadata": {},
          "output_type": "display_data"
        }
      ],
      "source": [
        "import matplotlib.pyplot as plt\n",
        "\n",
        "# Function to plot top diseases based on scores\n",
        "def plot_top_diseases(top_diseases, title):\n",
        "    diseases = []\n",
        "    scores = []\n",
        "    for disease, score in top_diseases:\n",
        "        diseases.append(disease)\n",
        "        scores.append(score)\n",
        "\n",
        "    plt.figure(figsize=(10, 6))\n",
        "    plt.barh(diseases, scores, color='skyblue')\n",
        "    plt.xlabel('Scores')\n",
        "    plt.ylabel('Diseases')\n",
        "    plt.title(title)\n",
        "    plt.gca().invert_yaxis()  # Invert y-axis to have highest score at the top\n",
        "    plt.show()\n",
        "\n",
        "# Plot top diseases based on TF-IDF scores\n",
        "plot_top_diseases(topk1, 'Top Diseases based on TF-IDF Scores')\n"
      ]
    },
    {
      "cell_type": "code",
      "execution_count": null,
      "metadata": {
        "colab": {
          "base_uri": "https://localhost:8080/"
        },
        "id": "K2VwhX5hVELo",
        "outputId": "fd2caeb7-7472-4f07-f7e0-a11fc7816e76"
      },
      "outputs": [
        {
          "name": "stdout",
          "output_type": "stream",
          "text": [
            "Top 10 disease based on Cosine Similarity Matching :\n",
            " \n",
            "0. Disease : Rocky Mountain spotted fever \t Score : 1.0\n",
            "1. Disease : Leptospirosis \t Score : 0.76\n",
            "2. Disease : Rift Valley fever \t Score : 0.76\n",
            "3. Disease : Malaria \t Score : 0.66\n",
            "4. Disease : Black Death \t Score : 0.6\n",
            "5. Disease : Scrub Typhus \t Score : 0.56\n",
            "6. Disease : Paratyphoid fever \t Score : 0.5\n",
            "7. Disease : Chagas disease \t Score : 0.46\n",
            "8. Disease : Nipah virus infection \t Score : 0.45\n",
            "9. Disease : Legionellosis \t Score : 0.45\n",
            "\n",
            "More details about the disease? Enter index of disease or '-1' to discontinue and close the system:\n",
            "8\n",
            "\n",
            "Nipah virus infection\n",
            "Disease -  Nipah virus \n",
            "Date -  2018, 2021, 2023 \n",
            "Fatality rate -  894% (2018) \n",
            "\n"
          ]
        }
      ],
      "source": [
        "print(f\"Top {k} disease based on Cosine Similarity Matching :\\n \")\n",
        "topk2_sorted = dict(sorted(topk2.items(), key=lambda kv: kv[1], reverse=True))\n",
        "j = 0\n",
        "topk2_index_mapping = {}\n",
        "for key in topk2_sorted:\n",
        "  print(f\"{j}. Disease : {diseases[key]} \\t Score : {round(topk2_sorted[key], 2)}\")\n",
        "  topk2_index_mapping[j] = diseases[key]\n",
        "  j += 1\n",
        "\n",
        "\n",
        "select = input(\"\\nMore details about the disease? Enter index of disease or '-1' to discontinue and close the system:\\n\")\n",
        "if select!='-1':\n",
        "    dis=topk2_index_mapping[int(select)]\n",
        "    print()\n",
        "    print(diseaseDetail(dis))"
      ]
    },
    {
      "cell_type": "code",
      "execution_count": null,
      "metadata": {
        "colab": {
          "base_uri": "https://localhost:8080/",
          "height": 439
        },
        "id": "RGPDA8NPm0-V",
        "outputId": "ea4aa93b-141f-40b7-c217-31503f791a80"
      },
      "outputs": [
        {
          "data": {
            "image/png": "[encoded data removed]",
            "text/plain": [
              "<Figure size 1000x600 with 1 Axes>"
            ]
          },
          "metadata": {},
          "output_type": "display_data"
        }
      ],
      "source": [
        "import matplotlib.pyplot as plt\n",
        "\n",
        "# Function to plot top diseases based on scores\n",
        "def plot_top_diseases(top_diseases, title):\n",
        "    diseases = []\n",
        "    scores = []\n",
        "    for disease, score in top_diseases:\n",
        "        diseases.append(disease)\n",
        "        scores.append(score)\n",
        "\n",
        "    plt.figure(figsize=(10, 6))\n",
        "    plt.barh(diseases, scores, color='skyblue')\n",
        "    plt.xlabel('Scores')\n",
        "    plt.ylabel('Diseases')\n",
        "    plt.title(title)\n",
        "    plt.gca().invert_yaxis()  # Invert y-axis to have highest score at the top\n",
        "    plt.show()\n",
        "\n",
        "# Plot top diseases based on Cosine Similarity scores\n",
        "cosine_similarity_scores = [(diseases[index], score) for index, score in topk2_sorted.items()]\n",
        "plot_top_diseases(cosine_similarity_scores, 'Top Diseases based on Cosine Similarity Scores')\n"
      ]
    },
    {
      "cell_type": "code",
      "execution_count": null,
      "metadata": {
        "id": "o7cszCF6qUgI"
      },
      "outputs": [],
      "source": [
        "# all necessary imports\n",
        "import warnings\n",
        "from decimal import Decimal\n",
        "import pandas as pd\n",
        "from sklearn.tree import DecisionTreeClassifier\n",
        "from sklearn.linear_model import LogisticRegression\n",
        "from sklearn.neighbors import KNeighborsClassifier\n",
        "from sklearn.svm import SVC\n",
        "from sklearn.metrics import accuracy_score\n",
        "from sklearn.model_selection import train_test_split, cross_val_score\n",
        "from sklearn.model_selection import GridSearchCV\n",
        "from sklearn.naive_bayes import MultinomialNB\n",
        "from sklearn.ensemble import RandomForestClassifier\n",
        "from sklearn.neural_network import MLPClassifier\n",
        "from xgboost import XGBClassifier\n",
        "import matplotlib.pyplot as plt\n",
        "# ignore warnings generated due to usage of old version of tensorflow\n",
        "warnings.simplefilter(\"ignore\")"
      ]
    },
    {
      "cell_type": "code",
      "execution_count": null,
      "metadata": {
        "id": "T3x3F0RiWEEh"
      },
      "outputs": [],
      "source": [
        "# Load Dataset scraped from NHP (https://www.nhp.gov.in/disease-a-z) & Wikipedia\n",
        "# Scrapping and creation of dataset csv is done in a separate program\n",
        "df_comb = pd.read_csv(\"/content/Disease-Detection-based-on-Symptoms/Dataset/dis_sym_dataset_comb.csv\")\n",
        "\n",
        "# creation of features and label for training the models\n",
        "X = df_comb.iloc[:, 1:]\n",
        "Y = df_comb.iloc[:, 0:1]"
      ]
    },
    {
      "cell_type": "code",
      "execution_count": null,
      "metadata": {
        "id": "-dzHxBIeWGAv"
      },
      "outputs": [],
      "source": [
        "# splitting data for training the classifiers and testing\n",
        "x_train, x_test, y_train, y_test = train_test_split(X, Y, test_size=0.10)"
      ]
    },
    {
      "cell_type": "code",
      "execution_count": null,
      "metadata": {
        "id": "DIRsxJktWIz4"
      },
      "outputs": [],
      "source": [
        "# lists used for accuracy plots\n",
        "accuracy_list = []\n",
        "cross_accuracy_list = []\n",
        "model_list = []"
      ]
    },
    {
      "cell_type": "markdown",
      "metadata": {
        "id": "K3_dxx-nWtWc"
      },
      "source": [
        "## Tf-Idf"
      ]
    },
    {
      "cell_type": "code",
      "execution_count": null,
      "metadata": {
        "colab": {
          "base_uri": "https://localhost:8080/"
        },
        "id": "J4Nrc-nkWIvf",
        "outputId": "a4b662c9-bea0-4d5f-f052-1477e27a4165"
      },
      "outputs": [
        {
          "name": "stdout",
          "output_type": "stream",
          "text": [
            "Accuracy (TF-IDF) : 90.95%\n",
            "Cross Validation Accuracy (TF-IDF): 86.61%\n",
            "Precision (tf-idf): 0.9225401020289496\n",
            "F1-score (tf-idf): 0.9099873684301805\n"
          ]
        }
      ],
      "source": [
        "#TF-IDF\n",
        "rf = RandomForestClassifier(n_estimators=10, criterion='entropy')\n",
        "rf = rf.fit(X, Y)\n",
        "# prediction of labels for the test data\n",
        "rf_pred = rf.predict(x_test)\n",
        "acc_rf = round(Decimal(accuracy_score(y_test, rf_pred) * 100), 2)\n",
        "accuracy_list.append(acc_rf)\n",
        "model_list.append(\"TF-IDF\")\n",
        "print(f\"Accuracy (TF-IDF) : {acc_rf}%\")\n",
        "\n",
        "# Cross Validation Accuracy\n",
        "# performing cross validation with 5 different splits\n",
        "scores_rf = cross_val_score(rf, X, Y, cv=5)\n",
        "# mean of cross val score (accuracy)\n",
        "score = round(Decimal(scores_rf.mean() * 100), 2)\n",
        "cross_accuracy_list.append(score)\n",
        "print(f\"Cross Validation Accuracy (TF-IDF): {score}%\")\n",
        "\n",
        "\n",
        "\n",
        "from sklearn.metrics import precision_score, f1_score\n",
        "\n",
        "\n",
        "# Precision\n",
        "precision_rf = precision_score(y_test, rf_pred, average='weighted')\n",
        "\n",
        "# F1-score\n",
        "f1_rf = f1_score(y_test, rf_pred, average='weighted')\n",
        "\n",
        "print(f\"Precision (tf-idf): {precision_rf}\")\n",
        "print(f\"F1-score (tf-idf): {f1_rf}\")\n"
      ]
    },
    {
      "cell_type": "markdown",
      "metadata": {
        "id": "oioctflDWwiK"
      },
      "source": [
        "## Cosine-Similarity"
      ]
    },
    {
      "cell_type": "code",
      "execution_count": null,
      "metadata": {
        "colab": {
          "base_uri": "https://localhost:8080/"
        },
        "id": "wnV2Z450WIst",
        "outputId": "5e048c35-d5d8-42f5-9998-7cfa042a96f3"
      },
      "outputs": [
        {
          "name": "stdout",
          "output_type": "stream",
          "text": [
            "Accuracy (COSINE) : 91.06%\n",
            "Cross Validation Accuracy (cosine): 85.25%\n",
            "Precision (cosine): 0.9233132906043472\n",
            "F1-score (cosine): 0.9082619502057709\n"
          ]
        }
      ],
      "source": [
        "# Cosine Similarity\n",
        "knn = KNeighborsClassifier(n_neighbors=7, weights='distance', n_jobs=4)\n",
        "knn = knn.fit(X, Y)\n",
        "# prediction of labels for the test data\n",
        "knn_pred = knn.predict(x_test)\n",
        "acc_knn = round(Decimal(accuracy_score(y_test, knn_pred) * 100), 2)\n",
        "accuracy_list.append(acc_knn)\n",
        "model_list.append(\"COSINE\")\n",
        "print(f\"Accuracy (COSINE) : {acc_knn}%\")\n",
        "\n",
        "# Cross Validation Accuracy\n",
        "# performing cross validation with 5 different splits\n",
        "scores_knn = cross_val_score(knn, X, Y, cv=5)\n",
        "# mean of cross val score (accuracy)\n",
        "score = round(Decimal(scores_knn.mean() * 100), 2)\n",
        "cross_accuracy_list.append(score)\n",
        "print(f\"Cross Validation Accuracy (cosine): {score}%\")\n",
        "\n",
        "from sklearn.metrics import precision_score, f1_score\n",
        "\n",
        "\n",
        "# Precision\n",
        "precision_knn = precision_score(y_test, knn_pred, average='weighted')\n",
        "\n",
        "# F1-score\n",
        "f1_knn = f1_score(y_test, knn_pred, average='weighted')\n",
        "\n",
        "print(f\"Precision (cosine): {precision_knn}\")\n",
        "print(f\"F1-score (cosine): {f1_knn}\")\n"
      ]
    },
    {
      "cell_type": "markdown",
      "metadata": {
        "id": "Dg2G8mkJW32g"
      },
      "source": [
        "## SVC"
      ]
    },
    {
      "cell_type": "code",
      "execution_count": null,
      "metadata": {
        "colab": {
          "base_uri": "https://localhost:8080/"
        },
        "id": "3A6LZu8AWIoM",
        "outputId": "4e131886-ffb3-48e7-da0b-076dcd02696d"
      },
      "outputs": [
        {
          "name": "stdout",
          "output_type": "stream",
          "text": [
            "Accuracy (SVM) : 89.59%\n",
            "Cross Validation Accuracy (SVM): 88.62%\n",
            "Precision (SVM): 0.87115967932872\n",
            "F1-score (SVM): 0.8737487259986406\n"
          ]
        }
      ],
      "source": [
        "# SVC Classifier\n",
        "svm = SVC()\n",
        "svm = svm.fit(X, Y)\n",
        "# prediction of labels for the test data\n",
        "svm_pred = svm.predict(x_test)\n",
        "acc_svm = round(Decimal(accuracy_score(y_test, svm_pred) * 100), 2)\n",
        "accuracy_list.append(acc_svm)\n",
        "model_list.append(\"SVM\")\n",
        "print(f\"Accuracy (SVM) : {acc_svm}%\")\n",
        "\n",
        "# Cross Validation Accuracy SVM\n",
        "# performing cross validation with 5 different splits\n",
        "scores_svm = cross_val_score(svm, X, Y, cv=5)\n",
        "# mean of cross val score (accuracy)\n",
        "score = round(Decimal(scores_svm.mean() * 100), 2)\n",
        "cross_accuracy_list.append(score)\n",
        "print(f\"Cross Validation Accuracy (SVM): {score}%\")\n",
        "\n",
        "from sklearn.metrics import precision_score, f1_score\n",
        "\n",
        "\n",
        "# Precision for SVM\n",
        "precision_svm = precision_score(y_test, svm_pred, average='weighted')\n",
        "\n",
        "# F1-score for SVM\n",
        "f1_svm = f1_score(y_test, svm_pred, average='weighted')\n",
        "\n",
        "print(f\"Precision (SVM): {precision_svm}\")\n",
        "print(f\"F1-score (SVM): {f1_svm}\")\n"
      ]
    },
    {
      "cell_type": "markdown",
      "metadata": {
        "id": "As5eCXkKW_23"
      },
      "source": [
        "## Multilayer Perceptron Classifier\n",
        "\n"
      ]
    },
    {
      "cell_type": "code",
      "execution_count": null,
      "metadata": {
        "colab": {
          "base_uri": "https://localhost:8080/"
        },
        "id": "mVhWdmBkWIec",
        "outputId": "8647fb17-6175-4a26-df9b-614eb7179633"
      },
      "outputs": [
        {
          "name": "stdout",
          "output_type": "stream",
          "text": [
            "Accuracy (MLP) : 90.27%\n",
            "Cross Validation Accuracy (MLP): 86.16%\n",
            "Precision (MLP): 0.9182924583377072\n",
            "F1-score (MLP): 0.9023844230789991\n"
          ]
        }
      ],
      "source": [
        "# MLP Classifier\n",
        "mlp = MLPClassifier(hidden_layer_sizes=(32, 32, 32), activation='relu', solver='adam', max_iter=50)\n",
        "mlp = mlp.fit(X, Y)\n",
        "# prediction of labels for the test data\n",
        "mlp_pred = mlp.predict(x_test)\n",
        "acc_mlp = round(Decimal(accuracy_score(y_test, mlp_pred) * 100), 2)\n",
        "accuracy_list.append(acc_mlp)\n",
        "model_list.append(\"MLP\")\n",
        "print(f\"Accuracy (MLP) : {acc_mlp}%\")\n",
        "\n",
        "# Cross Validation Accuracy MLP\n",
        "# performing cross validation with 5 different splits\n",
        "scores_mlp = cross_val_score(mlp, X, Y, cv=5)\n",
        "# mean of cross val score (accuracy)\n",
        "score = round(Decimal(scores_mlp.mean() * 100), 2)\n",
        "cross_accuracy_list.append(score)\n",
        "print(f\"Cross Validation Accuracy (MLP): {score}%\")\n",
        "\n",
        "from sklearn.metrics import precision_score, f1_score\n",
        "\n",
        "\n",
        "# Precision for MLP\n",
        "precision_mlp = precision_score(y_test, mlp_pred, average='weighted')\n",
        "\n",
        "# F1-score for MLP\n",
        "f1_mlp = f1_score(y_test, mlp_pred, average='weighted')\n",
        "\n",
        "print(f\"Precision (MLP): {precision_mlp}\")\n",
        "print(f\"F1-score (MLP): {f1_mlp}\")\n"
      ]
    },
    {
      "cell_type": "markdown",
      "metadata": {
        "id": "s29m1nt3XTEH"
      },
      "source": [
        "## Accuracy Comparison Plot for all the classifiers"
      ]
    },
    {
      "cell_type": "code",
      "execution_count": null,
      "metadata": {
        "colab": {
          "base_uri": "https://localhost:8080/",
          "height": 597
        },
        "id": "ZUQXXX7tOk9k",
        "outputId": "62b945cb-f3ca-4705-d4f9-463b0adb4bad"
      },
      "outputs": [
        {
          "data": {
            "image/png": "[encoded data removed]",
            "text/plain": [
              "<Figure size 600x600 with 1 Axes>"
            ]
          },
          "metadata": {},
          "output_type": "display_data"
        }
      ],
      "source": [
        "import matplotlib.pyplot as plt\n",
        "\n",
        "# Lists containing model names and their corresponding accuracies\n",
        "model_list = [\"TF-IDF\", \"COSINE\", \"SVM\", \"MLP\"]\n",
        "accuracy_list = [acc_rf, acc_knn, acc_svm, acc_mlp]\n",
        "\n",
        "# Plotting the bar graph\n",
        "plt.figure(figsize=(6, 6))\n",
        "plt.bar(model_list, accuracy_list, color='skyblue')\n",
        "plt.xlabel('Model')\n",
        "plt.ylabel('Accuracy (%)')\n",
        "plt.title('Model Accuracy Comparison')\n",
        "plt.ylim(0, 100)  # Set the y-axis limit from 0 to 100 for percentage accuracy\n",
        "plt.show()\n"
      ]
    }
  ],
  "metadata": {
    "colab": {
      "provenance": [],
      "include_colab_link": true
    },
    "kernelspec": {
      "display_name": "Python 3",
      "name": "python3"
    },
    "language_info": {
      "name": "python"
    }
  },
  "nbformat": 4,
  "nbformat_minor": 0
}